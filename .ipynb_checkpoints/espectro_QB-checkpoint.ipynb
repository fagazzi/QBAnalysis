{
 "metadata": {
  "name": ""
 },
 "nbformat": 3,
 "nbformat_minor": 0,
 "worksheets": [
  {
   "cells": [
    {
     "cell_type": "heading",
     "level": 1,
     "metadata": {},
     "source": [
      "PROGRAMA PARA ANALIZAR LA BANDA B1 DE ABSORCI\u00d3N DE QB"
     ]
    },
    {
     "cell_type": "code",
     "collapsed": false,
     "input": [
      "import numpy as np\n",
      "import matplotlib.pyplot as plt\n",
      "from scipy.interpolate import UnivariateSpline\n",
      "from scipy.optimize import fminbound\n",
      "%matplotlib inline"
     ],
     "language": "python",
     "metadata": {},
     "outputs": [],
     "prompt_number": 8
    },
    {
     "cell_type": "markdown",
     "metadata": {},
     "source": [
      "Se definen las funciones a utilizar:"
     ]
    },
    {
     "cell_type": "code",
     "collapsed": false,
     "input": [
      "def func(w):\n",
      "    '''funci\u00f3n a minimizar'''\n",
      "    return -sp(w)\n",
      "\n",
      "def EQB(x):\n",
      "    '''Calcula la energ\u00eda de la transici\u00f3n B1'''\n",
      "    return 1.986e-25*6.02e23*1e6/(4.18*x)\n",
      "\n",
      "def ET30(x):\n",
      "    '''Calcula la energia ET30 de B1'''\n",
      "    return 1.71*EQB(x) - 49.1"
     ],
     "language": "python",
     "metadata": {},
     "outputs": [],
     "prompt_number": 9
    },
    {
     "cell_type": "markdown",
     "metadata": {},
     "source": [
      "Se define el array con las fracciones molares de $\\textit{n}$--heptano:"
     ]
    },
    {
     "cell_type": "code",
     "collapsed": false,
     "input": [
      "c = np.array([0.00, 0.06, 0.13, 0.21, 0.30])"
     ],
     "language": "python",
     "metadata": {},
     "outputs": [],
     "prompt_number": 10
    },
    {
     "cell_type": "markdown",
     "metadata": {},
     "source": [
      "Se abren los archivos en donde vamos a escribir las salidas:"
     ]
    },
    {
     "cell_type": "code",
     "collapsed": false,
     "input": [
      "f = open('outputs/b1.txt','w')\n",
      "g = open('outputs/long_b1.txt','w')"
     ],
     "language": "python",
     "metadata": {},
     "outputs": [],
     "prompt_number": 11
    },
    {
     "cell_type": "markdown",
     "metadata": {},
     "source": [
      "donde en \"b1.txt\" se escriben las energ\u00edas de transici\u00f3n ET30 y en \"long_b1.txt\" las longitudes de onda."
     ]
    },
    {
     "cell_type": "markdown",
     "metadata": {},
     "source": [
      "A continuaci\u00f3n, se lee el archivo con los datos para el sistema en benceno puro (archivo \"100.dat\"):"
     ]
    },
    {
     "cell_type": "code",
     "collapsed": false,
     "input": [
      "l,a = np.loadtxt('inputs/100.dat', unpack=True)"
     ],
     "language": "python",
     "metadata": {},
     "outputs": [],
     "prompt_number": 12
    },
    {
     "cell_type": "markdown",
     "metadata": {},
     "source": [
      "Se define el intervalo en donde se buscar\u00e1 el m\u00e1ximo de B1:"
     ]
    },
    {
     "cell_type": "code",
     "collapsed": false,
     "input": [
      "ind = (l > 560.) & (l < 630.)"
     ],
     "language": "python",
     "metadata": {},
     "outputs": [],
     "prompt_number": 13
    },
    {
     "cell_type": "markdown",
     "metadata": {},
     "source": [
      "y se nombra como l1 y a1 a las longitudes de onda y absorbancias, respectivamente, que corresponden al intervalo mencionado:"
     ]
    },
    {
     "cell_type": "code",
     "collapsed": false,
     "input": [
      "l1 = l[ind]\n",
      "a1 = a[ind]"
     ],
     "language": "python",
     "metadata": {},
     "outputs": [],
     "prompt_number": 14
    },
    {
     "cell_type": "markdown",
     "metadata": {},
     "source": [
      "Luego, se realiza la interpolaci\u00f3n de los datos en el intervalo de inter\u00e9s:"
     ]
    },
    {
     "cell_type": "code",
     "collapsed": false,
     "input": [
      "sp = UnivariateSpline(l1, a1, s=3000)"
     ],
     "language": "python",
     "metadata": {},
     "outputs": [],
     "prompt_number": 15
    },
    {
     "cell_type": "markdown",
     "metadata": {},
     "source": [
      "donde s es un factor de \"smoothing\"."
     ]
    },
    {
     "cell_type": "markdown",
     "metadata": {},
     "source": [
      "Se grafican lo obtenido hasta aqui: "
     ]
    },
    {
     "cell_type": "code",
     "collapsed": false,
     "input": [
      "plt.plot(l1, a1, 'b.')\n",
      "plt.plot(l1, sp(l1), 'r-')\n",
      "plt.legend(['Datos exp.', 'Interpolacion'], loc='best')\n",
      "plt.xlabel('$\\lambda$ (nm)')\n",
      "plt.ylabel('$Abs$')\n",
      "plt.show()"
     ],
     "language": "python",
     "metadata": {},
     "outputs": [
      {
       "metadata": {},
       "output_type": "display_data",
       "png": "[encoded data removed]",
       "text": [
        "<matplotlib.figure.Figure at 0x7f3f146d3dd0>"
       ]
      }
     ],
     "prompt_number": 16
    },
    {
     "cell_type": "markdown",
     "metadata": {},
     "source": [
      "La interpolacion genera una funci\u00f3n llamable (sp). Para encontrar el m\u00e1ximo de la banda, se deriva esta funci\u00f3n y se busca el cero de dicha derivada:"
     ]
    },
    {
     "cell_type": "code",
     "collapsed": false,
     "input": [
      "d1 = sp(l1, 1)"
     ],
     "language": "python",
     "metadata": {},
     "outputs": [],
     "prompt_number": 17
    },
    {
     "cell_type": "markdown",
     "metadata": {},
     "source": [
      "Para hallar los ceros, primero se genera el array \"s\" con la forma de d1. Luego se le da el valor de 1 a los elementos de \"s\" cuya derivada es mayor o igual que cero, o cero si la derivada es menor que cero:"
     ]
    },
    {
     "cell_type": "code",
     "collapsed": false,
     "input": [
      "s = np.zeros(d1.shape)\n",
      "s[d1 >= 0] = 1\n",
      "s[d1 < 0] = 0"
     ],
     "language": "python",
     "metadata": {},
     "outputs": [],
     "prompt_number": 18
    },
    {
     "cell_type": "markdown",
     "metadata": {},
     "source": [
      "A continuaci\u00f3n se buscar\u00e1 el valor de longitud de onda para el cual la diferencia entre su \"s\" y el anteior es -1. Esta longitud de onda es \u00fanica, y corresponder\u00e1 a la que se da el cambio de \"s=1\" a \"s=0\" (diff = 0-1=-1). A dicho valor de longitud de onda se lo toma como valor inicial para luego buscar el verdadero m\u00ednimo en un intervalo cercano a el valor:"
     ]
    },
    {
     "cell_type": "code",
     "collapsed": false,
     "input": [
      "initial_guesses = l1[np.diff(s) == -1]"
     ],
     "language": "python",
     "metadata": {},
     "outputs": [],
     "prompt_number": 19
    },
    {
     "cell_type": "markdown",
     "metadata": {},
     "source": [
      "Se llama a la funci\u00f3n fminbound para que minimice la funci\u00f3n \"func=-sp\". Esta fn definida m\u00e1s arriba ser\u00eda sp reflejada respecto al eje \"x\". -sp ser\u00eda tipo una cuadr\u00e1tica:"
     ]
    },
    {
     "cell_type": "code",
     "collapsed": false,
     "input": [
      "for value in initial_guesses:\n",
      "    sol = fminbound(func, value - 1, value + 1)"
     ],
     "language": "python",
     "metadata": {},
     "outputs": [],
     "prompt_number": 20
    },
    {
     "cell_type": "markdown",
     "metadata": {},
     "source": [
      "value ser\u00eda el landa para el cual diff(s)=-1, y sera aproximadamente el minimo de -sp. "
     ]
    },
    {
     "cell_type": "heading",
     "level": 2,
     "metadata": {},
     "source": [
      "A continuaci\u00f3n se imprime el valor de $X_{Hp}$, $\\lambda_{max}$, y valor de $E_T(30)$:"
     ]
    },
    {
     "cell_type": "code",
     "collapsed": false,
     "input": [
      "print ('{0} {1} {2}\\n'.format(c[0],sol,ET30(sol)))"
     ],
     "language": "python",
     "metadata": {},
     "outputs": [
      {
       "output_type": "stream",
       "stream": "stdout",
       "text": [
        "0.0 583.663300779 34.6979080937\n",
        "\n"
       ]
      }
     ],
     "prompt_number": 21
    },
    {
     "cell_type": "markdown",
     "metadata": {},
     "source": [
      "Finalmente se escriben los valores en los objetos \"f\" y \"g\":"
     ]
    },
    {
     "cell_type": "code",
     "collapsed": false,
     "input": [
      "f.write('{0} {1}\\n'.format(c[0],ET30(sol)))\n",
      "g.write('{0} {1}\\n'.format(c[0],sol))"
     ],
     "language": "python",
     "metadata": {},
     "outputs": [],
     "prompt_number": 22
    },
    {
     "cell_type": "markdown",
     "metadata": {},
     "source": [
      "Se cierran los objetos creados:"
     ]
    },
    {
     "cell_type": "code",
     "collapsed": false,
     "input": [
      "f.close()\n",
      "g.close()"
     ],
     "language": "python",
     "metadata": {},
     "outputs": [],
     "prompt_number": 23
    }
   ],
   "metadata": {}
  }
 ]
}